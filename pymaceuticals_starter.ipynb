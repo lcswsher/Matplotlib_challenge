{
 "cells": [
  {
   "cell_type": "markdown",
   "metadata": {},
   "source": [
    "## Observations and Insights "
   ]
  },
  {
   "cell_type": "code",
   "execution_count": 857,
   "metadata": {},
   "outputs": [
    {
     "data": {
      "text/html": [
       "<div>\n",
       "<style scoped>\n",
       "    .dataframe tbody tr th:only-of-type {\n",
       "        vertical-align: middle;\n",
       "    }\n",
       "\n",
       "    .dataframe tbody tr th {\n",
       "        vertical-align: top;\n",
       "    }\n",
       "\n",
       "    .dataframe thead th {\n",
       "        text-align: right;\n",
       "    }\n",
       "</style>\n",
       "<table border=\"1\" class=\"dataframe\">\n",
       "  <thead>\n",
       "    <tr style=\"text-align: right;\">\n",
       "      <th></th>\n",
       "      <th>Mouse ID</th>\n",
       "      <th>Timepoint</th>\n",
       "      <th>Tumor Volume (mm3)</th>\n",
       "      <th>Metastatic Sites</th>\n",
       "      <th>Drug Regimen</th>\n",
       "      <th>Sex</th>\n",
       "      <th>Age_months</th>\n",
       "      <th>Weight (g)</th>\n",
       "    </tr>\n",
       "  </thead>\n",
       "  <tbody>\n",
       "    <tr>\n",
       "      <th>0</th>\n",
       "      <td>b128</td>\n",
       "      <td>0</td>\n",
       "      <td>45.000000</td>\n",
       "      <td>0</td>\n",
       "      <td>Capomulin</td>\n",
       "      <td>Female</td>\n",
       "      <td>9</td>\n",
       "      <td>22</td>\n",
       "    </tr>\n",
       "    <tr>\n",
       "      <th>1</th>\n",
       "      <td>b128</td>\n",
       "      <td>5</td>\n",
       "      <td>45.651331</td>\n",
       "      <td>0</td>\n",
       "      <td>Capomulin</td>\n",
       "      <td>Female</td>\n",
       "      <td>9</td>\n",
       "      <td>22</td>\n",
       "    </tr>\n",
       "    <tr>\n",
       "      <th>2</th>\n",
       "      <td>b128</td>\n",
       "      <td>10</td>\n",
       "      <td>43.270852</td>\n",
       "      <td>0</td>\n",
       "      <td>Capomulin</td>\n",
       "      <td>Female</td>\n",
       "      <td>9</td>\n",
       "      <td>22</td>\n",
       "    </tr>\n",
       "    <tr>\n",
       "      <th>3</th>\n",
       "      <td>b128</td>\n",
       "      <td>15</td>\n",
       "      <td>43.784893</td>\n",
       "      <td>0</td>\n",
       "      <td>Capomulin</td>\n",
       "      <td>Female</td>\n",
       "      <td>9</td>\n",
       "      <td>22</td>\n",
       "    </tr>\n",
       "    <tr>\n",
       "      <th>4</th>\n",
       "      <td>b128</td>\n",
       "      <td>20</td>\n",
       "      <td>42.731552</td>\n",
       "      <td>0</td>\n",
       "      <td>Capomulin</td>\n",
       "      <td>Female</td>\n",
       "      <td>9</td>\n",
       "      <td>22</td>\n",
       "    </tr>\n",
       "  </tbody>\n",
       "</table>\n",
       "</div>"
      ],
      "text/plain": [
       "  Mouse ID  Timepoint  Tumor Volume (mm3)  Metastatic Sites Drug Regimen  \\\n",
       "0     b128          0           45.000000                 0    Capomulin   \n",
       "1     b128          5           45.651331                 0    Capomulin   \n",
       "2     b128         10           43.270852                 0    Capomulin   \n",
       "3     b128         15           43.784893                 0    Capomulin   \n",
       "4     b128         20           42.731552                 0    Capomulin   \n",
       "\n",
       "      Sex  Age_months  Weight (g)  \n",
       "0  Female           9          22  \n",
       "1  Female           9          22  \n",
       "2  Female           9          22  \n",
       "3  Female           9          22  \n",
       "4  Female           9          22  "
      ]
     },
     "execution_count": 857,
     "metadata": {},
     "output_type": "execute_result"
    }
   ],
   "source": [
    "# Dependencies and Setup\n",
    "import matplotlib.pyplot as plt\n",
    "import pandas as pd\n",
    "import scipy.stats as st\n",
    "import numpy as np\n",
    "import seaborn as sns\n",
    "from scipy.stats import linregress\n",
    "\n",
    "# Study data files\n",
    "mouse_metadata_path = \"data/Mouse_metadata.csv\"\n",
    "study_results_path = \"data/Study_results.csv\"\n",
    "\n",
    "# Read the mouse data and the study results\n",
    "mouse_metadata = pd.read_csv(mouse_metadata_path)\n",
    "study_results = pd.read_csv(study_results_path)\n",
    "\n",
    "# Combine the data into a single dataset\n",
    "combined_data_df = pd.merge(study_results, mouse_metadata, on=\"Mouse ID\")\n",
    "\n",
    "# Display the data table for preview\n",
    "combined_data_df.head()"
   ]
  },
  {
   "cell_type": "code",
   "execution_count": 858,
   "metadata": {},
   "outputs": [
    {
     "data": {
      "text/plain": [
       "249"
      ]
     },
     "execution_count": 858,
     "metadata": {},
     "output_type": "execute_result"
    }
   ],
   "source": [
    "# Checking the number of mice.\n",
    "number_of_mice = len(combined_data_df[\"Mouse ID\"].value_counts())\n",
    "number_of_mice"
   ]
  },
  {
   "cell_type": "code",
   "execution_count": 859,
   "metadata": {},
   "outputs": [
    {
     "name": "stdout",
     "output_type": "stream",
     "text": [
      "g989\n"
     ]
    }
   ],
   "source": [
    "# Getting the duplicate mice by ID number that shows up for Mouse ID and Timepoint. \n",
    "duplicate_mouse_id = combined_data_df.loc[combined_data_df.duplicated(subset=[\"Mouse ID\",\"Timepoint\"]),\"Mouse ID\"].unique()\n",
    "print(*duplicate_mouse_id)"
   ]
  },
  {
   "cell_type": "code",
   "execution_count": 860,
   "metadata": {},
   "outputs": [
    {
     "data": {
      "text/html": [
       "<div>\n",
       "<style scoped>\n",
       "    .dataframe tbody tr th:only-of-type {\n",
       "        vertical-align: middle;\n",
       "    }\n",
       "\n",
       "    .dataframe tbody tr th {\n",
       "        vertical-align: top;\n",
       "    }\n",
       "\n",
       "    .dataframe thead th {\n",
       "        text-align: right;\n",
       "    }\n",
       "</style>\n",
       "<table border=\"1\" class=\"dataframe\">\n",
       "  <thead>\n",
       "    <tr style=\"text-align: right;\">\n",
       "      <th></th>\n",
       "      <th>Mouse ID</th>\n",
       "      <th>Timepoint</th>\n",
       "      <th>Tumor Volume (mm3)</th>\n",
       "      <th>Metastatic Sites</th>\n",
       "      <th>Drug Regimen</th>\n",
       "      <th>Sex</th>\n",
       "      <th>Age_months</th>\n",
       "      <th>Weight (g)</th>\n",
       "    </tr>\n",
       "  </thead>\n",
       "  <tbody>\n",
       "    <tr>\n",
       "      <th>860</th>\n",
       "      <td>g989</td>\n",
       "      <td>0</td>\n",
       "      <td>45.000000</td>\n",
       "      <td>0</td>\n",
       "      <td>Propriva</td>\n",
       "      <td>Female</td>\n",
       "      <td>21</td>\n",
       "      <td>26</td>\n",
       "    </tr>\n",
       "    <tr>\n",
       "      <th>861</th>\n",
       "      <td>g989</td>\n",
       "      <td>0</td>\n",
       "      <td>45.000000</td>\n",
       "      <td>0</td>\n",
       "      <td>Propriva</td>\n",
       "      <td>Female</td>\n",
       "      <td>21</td>\n",
       "      <td>26</td>\n",
       "    </tr>\n",
       "    <tr>\n",
       "      <th>862</th>\n",
       "      <td>g989</td>\n",
       "      <td>5</td>\n",
       "      <td>48.786801</td>\n",
       "      <td>0</td>\n",
       "      <td>Propriva</td>\n",
       "      <td>Female</td>\n",
       "      <td>21</td>\n",
       "      <td>26</td>\n",
       "    </tr>\n",
       "    <tr>\n",
       "      <th>863</th>\n",
       "      <td>g989</td>\n",
       "      <td>5</td>\n",
       "      <td>47.570392</td>\n",
       "      <td>0</td>\n",
       "      <td>Propriva</td>\n",
       "      <td>Female</td>\n",
       "      <td>21</td>\n",
       "      <td>26</td>\n",
       "    </tr>\n",
       "    <tr>\n",
       "      <th>864</th>\n",
       "      <td>g989</td>\n",
       "      <td>10</td>\n",
       "      <td>51.745156</td>\n",
       "      <td>0</td>\n",
       "      <td>Propriva</td>\n",
       "      <td>Female</td>\n",
       "      <td>21</td>\n",
       "      <td>26</td>\n",
       "    </tr>\n",
       "    <tr>\n",
       "      <th>865</th>\n",
       "      <td>g989</td>\n",
       "      <td>10</td>\n",
       "      <td>49.880528</td>\n",
       "      <td>0</td>\n",
       "      <td>Propriva</td>\n",
       "      <td>Female</td>\n",
       "      <td>21</td>\n",
       "      <td>26</td>\n",
       "    </tr>\n",
       "    <tr>\n",
       "      <th>866</th>\n",
       "      <td>g989</td>\n",
       "      <td>15</td>\n",
       "      <td>51.325852</td>\n",
       "      <td>1</td>\n",
       "      <td>Propriva</td>\n",
       "      <td>Female</td>\n",
       "      <td>21</td>\n",
       "      <td>26</td>\n",
       "    </tr>\n",
       "    <tr>\n",
       "      <th>867</th>\n",
       "      <td>g989</td>\n",
       "      <td>15</td>\n",
       "      <td>53.442020</td>\n",
       "      <td>0</td>\n",
       "      <td>Propriva</td>\n",
       "      <td>Female</td>\n",
       "      <td>21</td>\n",
       "      <td>26</td>\n",
       "    </tr>\n",
       "    <tr>\n",
       "      <th>868</th>\n",
       "      <td>g989</td>\n",
       "      <td>20</td>\n",
       "      <td>55.326122</td>\n",
       "      <td>1</td>\n",
       "      <td>Propriva</td>\n",
       "      <td>Female</td>\n",
       "      <td>21</td>\n",
       "      <td>26</td>\n",
       "    </tr>\n",
       "    <tr>\n",
       "      <th>869</th>\n",
       "      <td>g989</td>\n",
       "      <td>20</td>\n",
       "      <td>54.657650</td>\n",
       "      <td>1</td>\n",
       "      <td>Propriva</td>\n",
       "      <td>Female</td>\n",
       "      <td>21</td>\n",
       "      <td>26</td>\n",
       "    </tr>\n",
       "    <tr>\n",
       "      <th>870</th>\n",
       "      <td>g989</td>\n",
       "      <td>25</td>\n",
       "      <td>56.045564</td>\n",
       "      <td>1</td>\n",
       "      <td>Propriva</td>\n",
       "      <td>Female</td>\n",
       "      <td>21</td>\n",
       "      <td>26</td>\n",
       "    </tr>\n",
       "    <tr>\n",
       "      <th>871</th>\n",
       "      <td>g989</td>\n",
       "      <td>30</td>\n",
       "      <td>59.082294</td>\n",
       "      <td>1</td>\n",
       "      <td>Propriva</td>\n",
       "      <td>Female</td>\n",
       "      <td>21</td>\n",
       "      <td>26</td>\n",
       "    </tr>\n",
       "    <tr>\n",
       "      <th>872</th>\n",
       "      <td>g989</td>\n",
       "      <td>35</td>\n",
       "      <td>62.570880</td>\n",
       "      <td>2</td>\n",
       "      <td>Propriva</td>\n",
       "      <td>Female</td>\n",
       "      <td>21</td>\n",
       "      <td>26</td>\n",
       "    </tr>\n",
       "  </tbody>\n",
       "</table>\n",
       "</div>"
      ],
      "text/plain": [
       "    Mouse ID  Timepoint  Tumor Volume (mm3)  Metastatic Sites Drug Regimen  \\\n",
       "860     g989          0           45.000000                 0     Propriva   \n",
       "861     g989          0           45.000000                 0     Propriva   \n",
       "862     g989          5           48.786801                 0     Propriva   \n",
       "863     g989          5           47.570392                 0     Propriva   \n",
       "864     g989         10           51.745156                 0     Propriva   \n",
       "865     g989         10           49.880528                 0     Propriva   \n",
       "866     g989         15           51.325852                 1     Propriva   \n",
       "867     g989         15           53.442020                 0     Propriva   \n",
       "868     g989         20           55.326122                 1     Propriva   \n",
       "869     g989         20           54.657650                 1     Propriva   \n",
       "870     g989         25           56.045564                 1     Propriva   \n",
       "871     g989         30           59.082294                 1     Propriva   \n",
       "872     g989         35           62.570880                 2     Propriva   \n",
       "\n",
       "        Sex  Age_months  Weight (g)  \n",
       "860  Female          21          26  \n",
       "861  Female          21          26  \n",
       "862  Female          21          26  \n",
       "863  Female          21          26  \n",
       "864  Female          21          26  \n",
       "865  Female          21          26  \n",
       "866  Female          21          26  \n",
       "867  Female          21          26  \n",
       "868  Female          21          26  \n",
       "869  Female          21          26  \n",
       "870  Female          21          26  \n",
       "871  Female          21          26  \n",
       "872  Female          21          26  "
      ]
     },
     "execution_count": 860,
     "metadata": {},
     "output_type": "execute_result"
    }
   ],
   "source": [
    "# Optional: Get all the data for the duplicate mouse ID. \n",
    "data_for_duplicate_mouse = combined_data_df.loc[combined_data_df[\"Mouse ID\"] == \"g989\",]\n",
    "data_for_duplicate_mouse.head(13)"
   ]
  },
  {
   "cell_type": "code",
   "execution_count": 861,
   "metadata": {},
   "outputs": [],
   "source": [
    "# Create a clean DataFrame by dropping the duplicate mouse by its ID.\n",
    "clean_combined_data_df = combined_data_df.copy()\n",
    "clean_combined_data_df = clean_combined_data_df.set_index(\"Mouse ID\")\n",
    "clean_combined_data_df.drop([\"g989\"], axis = 0, inplace = True)"
   ]
  },
  {
   "cell_type": "code",
   "execution_count": 862,
   "metadata": {},
   "outputs": [
    {
     "data": {
      "text/plain": [
       "248"
      ]
     },
     "execution_count": 862,
     "metadata": {},
     "output_type": "execute_result"
    }
   ],
   "source": [
    "# Checking the number of mice in the clean DataFrame.\n",
    "clean_combined_data_df = clean_combined_data_df.reset_index()\n",
    "clean_combined_data_df_count = len(clean_combined_data_df[\"Mouse ID\"].value_counts())\n",
    "clean_combined_data_df_count"
   ]
  },
  {
   "cell_type": "code",
   "execution_count": 863,
   "metadata": {},
   "outputs": [
    {
     "data": {
      "text/html": [
       "<div>\n",
       "<style scoped>\n",
       "    .dataframe tbody tr th:only-of-type {\n",
       "        vertical-align: middle;\n",
       "    }\n",
       "\n",
       "    .dataframe tbody tr th {\n",
       "        vertical-align: top;\n",
       "    }\n",
       "\n",
       "    .dataframe thead th {\n",
       "        text-align: right;\n",
       "    }\n",
       "</style>\n",
       "<table border=\"1\" class=\"dataframe\">\n",
       "  <thead>\n",
       "    <tr style=\"text-align: right;\">\n",
       "      <th></th>\n",
       "      <th>Mouse ID</th>\n",
       "      <th>Timepoint</th>\n",
       "      <th>Tumor Volume (mm3)</th>\n",
       "      <th>Metastatic Sites</th>\n",
       "      <th>Drug Regimen</th>\n",
       "      <th>Sex</th>\n",
       "      <th>Age_months</th>\n",
       "      <th>Weight (g)</th>\n",
       "    </tr>\n",
       "  </thead>\n",
       "  <tbody>\n",
       "    <tr>\n",
       "      <th>0</th>\n",
       "      <td>b128</td>\n",
       "      <td>0</td>\n",
       "      <td>45.000000</td>\n",
       "      <td>0</td>\n",
       "      <td>Capomulin</td>\n",
       "      <td>Female</td>\n",
       "      <td>9</td>\n",
       "      <td>22</td>\n",
       "    </tr>\n",
       "    <tr>\n",
       "      <th>1</th>\n",
       "      <td>b128</td>\n",
       "      <td>5</td>\n",
       "      <td>45.651331</td>\n",
       "      <td>0</td>\n",
       "      <td>Capomulin</td>\n",
       "      <td>Female</td>\n",
       "      <td>9</td>\n",
       "      <td>22</td>\n",
       "    </tr>\n",
       "    <tr>\n",
       "      <th>2</th>\n",
       "      <td>b128</td>\n",
       "      <td>10</td>\n",
       "      <td>43.270852</td>\n",
       "      <td>0</td>\n",
       "      <td>Capomulin</td>\n",
       "      <td>Female</td>\n",
       "      <td>9</td>\n",
       "      <td>22</td>\n",
       "    </tr>\n",
       "    <tr>\n",
       "      <th>3</th>\n",
       "      <td>b128</td>\n",
       "      <td>15</td>\n",
       "      <td>43.784893</td>\n",
       "      <td>0</td>\n",
       "      <td>Capomulin</td>\n",
       "      <td>Female</td>\n",
       "      <td>9</td>\n",
       "      <td>22</td>\n",
       "    </tr>\n",
       "    <tr>\n",
       "      <th>4</th>\n",
       "      <td>b128</td>\n",
       "      <td>20</td>\n",
       "      <td>42.731552</td>\n",
       "      <td>0</td>\n",
       "      <td>Capomulin</td>\n",
       "      <td>Female</td>\n",
       "      <td>9</td>\n",
       "      <td>22</td>\n",
       "    </tr>\n",
       "  </tbody>\n",
       "</table>\n",
       "</div>"
      ],
      "text/plain": [
       "  Mouse ID  Timepoint  Tumor Volume (mm3)  Metastatic Sites Drug Regimen  \\\n",
       "0     b128          0           45.000000                 0    Capomulin   \n",
       "1     b128          5           45.651331                 0    Capomulin   \n",
       "2     b128         10           43.270852                 0    Capomulin   \n",
       "3     b128         15           43.784893                 0    Capomulin   \n",
       "4     b128         20           42.731552                 0    Capomulin   \n",
       "\n",
       "      Sex  Age_months  Weight (g)  \n",
       "0  Female           9          22  \n",
       "1  Female           9          22  \n",
       "2  Female           9          22  \n",
       "3  Female           9          22  \n",
       "4  Female           9          22  "
      ]
     },
     "execution_count": 863,
     "metadata": {},
     "output_type": "execute_result"
    }
   ],
   "source": [
    "# clean_combined_data_df-excludes Mouse ID g989\n",
    "clean_combined_data_df.head()"
   ]
  },
  {
   "cell_type": "markdown",
   "metadata": {},
   "source": [
    "## Summary Statistics"
   ]
  },
  {
   "cell_type": "code",
   "execution_count": 864,
   "metadata": {},
   "outputs": [],
   "source": [
    "# Generate a summary statistics table of mean, median, variance, standard deviation, and SEM of the tumor volume for each regimen\n",
    "clean_combined_data_df_stats = pd.DataFrame(clean_combined_data_df.groupby(\"Drug Regimen\").count())\n",
    "\n",
    "# Use groupby and summary statistical methods to calculate the following properties of each drug regimen: \n",
    "# mean, median, variance, standard deviation, and SEM of the tumor volume. \n",
    "clean_combined_data_df_stats[\"Mean Tumor Volume\"] = clean_combined_data_df.groupby(\"Drug Regimen\").mean()[\"Tumor Volume (mm3)\"]\n",
    "clean_combined_data_df_stats[\"Median Tumor Volume\"] = clean_combined_data_df.groupby(\"Drug Regimen\").median()[\"Tumor Volume (mm3)\"]\n",
    "clean_combined_data_df_stats[\"Tumor Volume Variance\"] = clean_combined_data_df.groupby(\"Drug Regimen\").var()[\"Tumor Volume (mm3)\"]\n",
    "clean_combined_data_df_stats[\"Tumor Std. Dev.\"] = clean_combined_data_df.groupby(\"Drug Regimen\").std()[\"Tumor Volume (mm3)\"]\n",
    "clean_combined_data_df_stats[\"Tumor Volume Std. Err.\"] = clean_combined_data_df.groupby(\"Drug Regimen\").sem()[\"Tumor Volume (mm3)\"]\n",
    "clean_combined_data_df_stats_summary = clean_combined_data_df_stats[[\"Mean Tumor Volume\", \"Median Tumor Volume\", \"Tumor Volume Variance\", \"Tumor Std. Dev.\", \"Tumor Volume Std. Err.\"]]  \n",
    "\n",
    "# Assemble the resulting series into a single summary dataframe.\n",
    "# clean_combined_data_df_stats_summary"
   ]
  },
  {
   "cell_type": "code",
   "execution_count": 865,
   "metadata": {},
   "outputs": [
    {
     "data": {
      "text/html": [
       "<div>\n",
       "<style scoped>\n",
       "    .dataframe tbody tr th:only-of-type {\n",
       "        vertical-align: middle;\n",
       "    }\n",
       "\n",
       "    .dataframe tbody tr th {\n",
       "        vertical-align: top;\n",
       "    }\n",
       "\n",
       "    .dataframe thead th {\n",
       "        text-align: right;\n",
       "    }\n",
       "</style>\n",
       "<table border=\"1\" class=\"dataframe\">\n",
       "  <thead>\n",
       "    <tr style=\"text-align: right;\">\n",
       "      <th></th>\n",
       "      <th>Mean Tumor Volume</th>\n",
       "      <th>Median Tumor Volume</th>\n",
       "      <th>Tumor Volume Variance</th>\n",
       "      <th>Tumor Std. Dev.</th>\n",
       "      <th>Tumor Volume Std. Err.</th>\n",
       "    </tr>\n",
       "    <tr>\n",
       "      <th>Drug Regimen</th>\n",
       "      <th></th>\n",
       "      <th></th>\n",
       "      <th></th>\n",
       "      <th></th>\n",
       "      <th></th>\n",
       "    </tr>\n",
       "  </thead>\n",
       "  <tbody>\n",
       "    <tr>\n",
       "      <th>Capomulin</th>\n",
       "      <td>40.675741</td>\n",
       "      <td>41.557809</td>\n",
       "      <td>24.947764</td>\n",
       "      <td>4.994774</td>\n",
       "      <td>0.329346</td>\n",
       "    </tr>\n",
       "    <tr>\n",
       "      <th>Ceftamin</th>\n",
       "      <td>52.591172</td>\n",
       "      <td>51.776157</td>\n",
       "      <td>39.290177</td>\n",
       "      <td>6.268188</td>\n",
       "      <td>0.469821</td>\n",
       "    </tr>\n",
       "    <tr>\n",
       "      <th>Infubinol</th>\n",
       "      <td>52.884795</td>\n",
       "      <td>51.820584</td>\n",
       "      <td>43.128684</td>\n",
       "      <td>6.567243</td>\n",
       "      <td>0.492236</td>\n",
       "    </tr>\n",
       "    <tr>\n",
       "      <th>Ketapril</th>\n",
       "      <td>55.235638</td>\n",
       "      <td>53.698743</td>\n",
       "      <td>68.553577</td>\n",
       "      <td>8.279709</td>\n",
       "      <td>0.603860</td>\n",
       "    </tr>\n",
       "    <tr>\n",
       "      <th>Naftisol</th>\n",
       "      <td>54.331565</td>\n",
       "      <td>52.509285</td>\n",
       "      <td>66.173479</td>\n",
       "      <td>8.134708</td>\n",
       "      <td>0.596466</td>\n",
       "    </tr>\n",
       "    <tr>\n",
       "      <th>Placebo</th>\n",
       "      <td>54.033581</td>\n",
       "      <td>52.288934</td>\n",
       "      <td>61.168083</td>\n",
       "      <td>7.821003</td>\n",
       "      <td>0.581331</td>\n",
       "    </tr>\n",
       "    <tr>\n",
       "      <th>Propriva</th>\n",
       "      <td>52.320930</td>\n",
       "      <td>50.446266</td>\n",
       "      <td>43.852013</td>\n",
       "      <td>6.622085</td>\n",
       "      <td>0.544332</td>\n",
       "    </tr>\n",
       "    <tr>\n",
       "      <th>Ramicane</th>\n",
       "      <td>40.216745</td>\n",
       "      <td>40.673236</td>\n",
       "      <td>23.486704</td>\n",
       "      <td>4.846308</td>\n",
       "      <td>0.320955</td>\n",
       "    </tr>\n",
       "    <tr>\n",
       "      <th>Stelasyn</th>\n",
       "      <td>54.233149</td>\n",
       "      <td>52.431737</td>\n",
       "      <td>59.450562</td>\n",
       "      <td>7.710419</td>\n",
       "      <td>0.573111</td>\n",
       "    </tr>\n",
       "    <tr>\n",
       "      <th>Zoniferol</th>\n",
       "      <td>53.236507</td>\n",
       "      <td>51.818479</td>\n",
       "      <td>48.533355</td>\n",
       "      <td>6.966589</td>\n",
       "      <td>0.516398</td>\n",
       "    </tr>\n",
       "  </tbody>\n",
       "</table>\n",
       "</div>"
      ],
      "text/plain": [
       "              Mean Tumor Volume  Median Tumor Volume  Tumor Volume Variance  \\\n",
       "Drug Regimen                                                                  \n",
       "Capomulin             40.675741            41.557809              24.947764   \n",
       "Ceftamin              52.591172            51.776157              39.290177   \n",
       "Infubinol             52.884795            51.820584              43.128684   \n",
       "Ketapril              55.235638            53.698743              68.553577   \n",
       "Naftisol              54.331565            52.509285              66.173479   \n",
       "Placebo               54.033581            52.288934              61.168083   \n",
       "Propriva              52.320930            50.446266              43.852013   \n",
       "Ramicane              40.216745            40.673236              23.486704   \n",
       "Stelasyn              54.233149            52.431737              59.450562   \n",
       "Zoniferol             53.236507            51.818479              48.533355   \n",
       "\n",
       "              Tumor Std. Dev.  Tumor Volume Std. Err.  \n",
       "Drug Regimen                                           \n",
       "Capomulin            4.994774                0.329346  \n",
       "Ceftamin             6.268188                0.469821  \n",
       "Infubinol            6.567243                0.492236  \n",
       "Ketapril             8.279709                0.603860  \n",
       "Naftisol             8.134708                0.596466  \n",
       "Placebo              7.821003                0.581331  \n",
       "Propriva             6.622085                0.544332  \n",
       "Ramicane             4.846308                0.320955  \n",
       "Stelasyn             7.710419                0.573111  \n",
       "Zoniferol            6.966589                0.516398  "
      ]
     },
     "execution_count": 865,
     "metadata": {},
     "output_type": "execute_result"
    }
   ],
   "source": [
    "# Generate a summary statistics table of mean, median, variance, standard deviation, and SEM of the tumor volume for each regimen\n",
    "clean_combined_data_df_stats_summary"
   ]
  },
  {
   "cell_type": "code",
   "execution_count": 866,
   "metadata": {},
   "outputs": [
    {
     "data": {
      "text/html": [
       "<div>\n",
       "<style scoped>\n",
       "    .dataframe tbody tr th:only-of-type {\n",
       "        vertical-align: middle;\n",
       "    }\n",
       "\n",
       "    .dataframe tbody tr th {\n",
       "        vertical-align: top;\n",
       "    }\n",
       "\n",
       "    .dataframe thead th {\n",
       "        text-align: right;\n",
       "    }\n",
       "</style>\n",
       "<table border=\"1\" class=\"dataframe\">\n",
       "  <thead>\n",
       "    <tr style=\"text-align: right;\">\n",
       "      <th></th>\n",
       "      <th>mean</th>\n",
       "      <th>median</th>\n",
       "      <th>var</th>\n",
       "      <th>std</th>\n",
       "      <th>sem</th>\n",
       "    </tr>\n",
       "    <tr>\n",
       "      <th>Drug Regimen</th>\n",
       "      <th></th>\n",
       "      <th></th>\n",
       "      <th></th>\n",
       "      <th></th>\n",
       "      <th></th>\n",
       "    </tr>\n",
       "  </thead>\n",
       "  <tbody>\n",
       "    <tr>\n",
       "      <th>Capomulin</th>\n",
       "      <td>40.675741</td>\n",
       "      <td>41.557809</td>\n",
       "      <td>24.947764</td>\n",
       "      <td>4.994774</td>\n",
       "      <td>0.329346</td>\n",
       "    </tr>\n",
       "    <tr>\n",
       "      <th>Ceftamin</th>\n",
       "      <td>52.591172</td>\n",
       "      <td>51.776157</td>\n",
       "      <td>39.290177</td>\n",
       "      <td>6.268188</td>\n",
       "      <td>0.469821</td>\n",
       "    </tr>\n",
       "    <tr>\n",
       "      <th>Infubinol</th>\n",
       "      <td>52.884795</td>\n",
       "      <td>51.820584</td>\n",
       "      <td>43.128684</td>\n",
       "      <td>6.567243</td>\n",
       "      <td>0.492236</td>\n",
       "    </tr>\n",
       "    <tr>\n",
       "      <th>Ketapril</th>\n",
       "      <td>55.235638</td>\n",
       "      <td>53.698743</td>\n",
       "      <td>68.553577</td>\n",
       "      <td>8.279709</td>\n",
       "      <td>0.603860</td>\n",
       "    </tr>\n",
       "    <tr>\n",
       "      <th>Naftisol</th>\n",
       "      <td>54.331565</td>\n",
       "      <td>52.509285</td>\n",
       "      <td>66.173479</td>\n",
       "      <td>8.134708</td>\n",
       "      <td>0.596466</td>\n",
       "    </tr>\n",
       "    <tr>\n",
       "      <th>Placebo</th>\n",
       "      <td>54.033581</td>\n",
       "      <td>52.288934</td>\n",
       "      <td>61.168083</td>\n",
       "      <td>7.821003</td>\n",
       "      <td>0.581331</td>\n",
       "    </tr>\n",
       "    <tr>\n",
       "      <th>Propriva</th>\n",
       "      <td>52.320930</td>\n",
       "      <td>50.446266</td>\n",
       "      <td>43.852013</td>\n",
       "      <td>6.622085</td>\n",
       "      <td>0.544332</td>\n",
       "    </tr>\n",
       "    <tr>\n",
       "      <th>Ramicane</th>\n",
       "      <td>40.216745</td>\n",
       "      <td>40.673236</td>\n",
       "      <td>23.486704</td>\n",
       "      <td>4.846308</td>\n",
       "      <td>0.320955</td>\n",
       "    </tr>\n",
       "    <tr>\n",
       "      <th>Stelasyn</th>\n",
       "      <td>54.233149</td>\n",
       "      <td>52.431737</td>\n",
       "      <td>59.450562</td>\n",
       "      <td>7.710419</td>\n",
       "      <td>0.573111</td>\n",
       "    </tr>\n",
       "    <tr>\n",
       "      <th>Zoniferol</th>\n",
       "      <td>53.236507</td>\n",
       "      <td>51.818479</td>\n",
       "      <td>48.533355</td>\n",
       "      <td>6.966589</td>\n",
       "      <td>0.516398</td>\n",
       "    </tr>\n",
       "  </tbody>\n",
       "</table>\n",
       "</div>"
      ],
      "text/plain": [
       "                   mean     median        var       std       sem\n",
       "Drug Regimen                                                     \n",
       "Capomulin     40.675741  41.557809  24.947764  4.994774  0.329346\n",
       "Ceftamin      52.591172  51.776157  39.290177  6.268188  0.469821\n",
       "Infubinol     52.884795  51.820584  43.128684  6.567243  0.492236\n",
       "Ketapril      55.235638  53.698743  68.553577  8.279709  0.603860\n",
       "Naftisol      54.331565  52.509285  66.173479  8.134708  0.596466\n",
       "Placebo       54.033581  52.288934  61.168083  7.821003  0.581331\n",
       "Propriva      52.320930  50.446266  43.852013  6.622085  0.544332\n",
       "Ramicane      40.216745  40.673236  23.486704  4.846308  0.320955\n",
       "Stelasyn      54.233149  52.431737  59.450562  7.710419  0.573111\n",
       "Zoniferol     53.236507  51.818479  48.533355  6.966589  0.516398"
      ]
     },
     "execution_count": 866,
     "metadata": {},
     "output_type": "execute_result"
    }
   ],
   "source": [
    "# Using the aggregation method, produce the same summary statistics in a single line \n",
    "clean_combined_data_df_stats_clean_agg = clean_combined_data_df\n",
    "clean_combined_data_df_stats_clean_agg = clean_combined_data_df_stats_clean_agg.groupby(\"Drug Regimen\")\n",
    "clean_combined_data_df_stats_clean_agg = clean_combined_data_df_stats_clean_agg.agg(['mean', 'median', 'var', 'std', 'sem'])                                            \n",
    "clean_combined_data_df_stats_clean_agg = clean_combined_data_df_stats_clean_agg['Tumor Volume (mm3)']\n",
    "clean_combined_data_df_stats_clean_agg"
   ]
  },
  {
   "cell_type": "markdown",
   "metadata": {},
   "source": [
    "## Bar and Pie Charts"
   ]
  },
  {
   "cell_type": "code",
   "execution_count": 867,
   "metadata": {},
   "outputs": [
    {
     "data": {
      "text/plain": [
       "<AxesSubplot:xlabel='Drug Regimen', ylabel='Total Number of Measurements'>"
      ]
     },
     "execution_count": 867,
     "metadata": {},
     "output_type": "execute_result"
    },
    {
     "data": {
      "image/png": "[encoded data removed]",
      "text/plain": [
       "<Figure size 432x288 with 1 Axes>"
      ]
     },
     "metadata": {
      "needs_background": "light"
     },
     "output_type": "display_data"
    }
   ],
   "source": [
    "# Generate a bar plot showing the total number of unique mice tested on each drug regimen using pandas (df.plot).\n",
    "clean_pandas_chart = clean_combined_data_df\n",
    "clean_pandas_chart = clean_pandas_chart.groupby(\"Drug Regimen\").Timepoint.count()\n",
    "clean_pandas_chart = pd.DataFrame(clean_pandas_chart)\n",
    "clean_pandas_chart = clean_pandas_chart.sort_values([\"Timepoint\"],ascending=False)\n",
    "clean_pandas_chart.plot.bar(xlabel=\"Drug Regimen\", ylabel=\"Total Number of Measurements\", legend=\"\", grid=True, color=\"blue\")"
   ]
  },
  {
   "cell_type": "code",
   "execution_count": 868,
   "metadata": {},
   "outputs": [
    {
     "data": {
      "image/png": "[encoded data removed]",
      "text/plain": [
       "<Figure size 432x288 with 1 Axes>"
      ]
     },
     "metadata": {
      "needs_background": "light"
     },
     "output_type": "display_data"
    },
    {
     "data": {
      "text/plain": [
       "<Figure size 432x288 with 0 Axes>"
      ]
     },
     "metadata": {},
     "output_type": "display_data"
    }
   ],
   "source": [
    "# Generate a bar plot showing the total number of unique mice tested on each drug regimen using pyplot(plt.show()).\n",
    "clean_pyplot_chart = clean_combined_data_df\n",
    "clean_pyplot_chart = clean_pyplot_chart.groupby(\"Drug Regimen\").Timepoint.count()\n",
    "clean_pyplot_chart = pd.DataFrame(clean_pyplot_chart)\n",
    "clean_pyplot_chart = clean_pyplot_chart.sort_values([\"Timepoint\"],ascending=False)\n",
    "timepoints = (clean_pyplot_chart[\"Timepoint\"].to_list())\n",
    "drugregimen = (clean_pyplot_chart.index.to_list())\n",
    "plt.bar(drugregimen, timepoints, facecolor=\"blue\", align=\"center\", width=0.5)\n",
    "plt.xlabel(\"Drug Regimen\"), plt.ylabel(\"Total Number of Measurements\"), plt.grid(\"True\")\n",
    "plt.xticks(rotation = 90)\n",
    "plt.show()\n",
    "plt.tight_layout()"
   ]
  },
  {
   "cell_type": "code",
   "execution_count": 869,
   "metadata": {},
   "outputs": [
    {
     "data": {
      "text/plain": [
       "array([<AxesSubplot:ylabel='Sex'>], dtype=object)"
      ]
     },
     "execution_count": 869,
     "metadata": {},
     "output_type": "execute_result"
    },
    {
     "data": {
      "image/png": "[encoded data removed]",
      "text/plain": [
       "<Figure size 432x288 with 1 Axes>"
      ]
     },
     "metadata": {},
     "output_type": "display_data"
    }
   ],
   "source": [
    "#Generate a pie plot showing the distribution of female versus male mice using pandas\n",
    "clean_pandas_pie_chart = clean_combined_data_df\n",
    "clean_pandas_pie_chart = clean_pandas_pie_chart.groupby(\"Sex\").count()\n",
    "clean_pandas_pie_chart = clean_pandas_pie_chart.sort_values([\"Mouse ID\"],ascending=False)\n",
    "clean_pandas_pie_chart_summary = clean_pandas_pie_chart[\"Mouse ID\"]\n",
    "clean_pandas_pie_chart_summary = pd.DataFrame(clean_pandas_pie_chart_summary)\n",
    "clean_pandas_pie_chart_summary.plot.pie(subplots=True, ylabel=\"Sex\", legend=False, autopct=\"%1.1f%%\", colors=[\"blue\",\"green\"])"
   ]
  },
  {
   "cell_type": "code",
   "execution_count": 870,
   "metadata": {},
   "outputs": [
    {
     "data": {
      "image/png": "[encoded data removed]",
      "text/plain": [
       "<Figure size 273.6x252 with 1 Axes>"
      ]
     },
     "metadata": {},
     "output_type": "display_data"
    }
   ],
   "source": [
    "# Generate a pie plot showing the distribution of female versus male mice using pyplot\n",
    "clean_pyplot_pie_chart = clean_combined_data_df\n",
    "clean_pyplot_pie_chart = clean_pyplot_pie_chart.groupby(\"Sex\").count()\n",
    "clean_pyplot_pie_chart = clean_pyplot_pie_chart.sort_values([\"Mouse ID\"],ascending=False)\n",
    "clean_pyplot_pie_chart_summary = clean_pyplot_pie_chart[\"Mouse ID\"]\n",
    "clean_pyplot_pie_chart_summary = pd.DataFrame(clean_pyplot_pie_chart_summary)\n",
    "number_id = (clean_pyplot_pie_chart_summary[\"Mouse ID\"].to_list())\n",
    "labels = (clean_pyplot_pie_chart_summary.index.to_list())\n",
    "fig1, ax1 = plt.subplots(figsize=(3.8,3.5))\n",
    "plt.pie(number_id, colors=(\"blue\",\"green\"),autopct=\"%1.1f%%\", labels=labels)\n",
    "plt.ylabel(\"Sex\")\n",
    "plt.axis(\"equal\")\n",
    "plt.show()"
   ]
  },
  {
   "cell_type": "markdown",
   "metadata": {},
   "source": [
    "## Quartiles, Outliers and Boxplots"
   ]
  },
  {
   "cell_type": "code",
   "execution_count": 871,
   "metadata": {},
   "outputs": [],
   "source": [
    "# Calculate the final tumor volume of each mouse across four of the treatment regimens:  \n",
    "# Capomulin, Ramicane, Infubinol, and Ceftamin\n",
    "\n",
    "# Start by getting the last (greatest) timepoint for each mouse\n",
    "#    Separate Dataframe for each Regimen.\n",
    "Capomulin_df = clean_combined_data_df.loc[clean_combined_data_df[\"Drug Regimen\"] == \"Capomulin\",:]\n",
    "Ramicane_df = clean_combined_data_df.loc[clean_combined_data_df[\"Drug Regimen\"] == \"Ramicane\",:]\n",
    "Infubinol_df = clean_combined_data_df.loc[clean_combined_data_df[\"Drug Regimen\"] == \"Infubinol\",:]\n",
    "Ceftamin_df = clean_combined_data_df.loc[clean_combined_data_df[\"Drug Regimen\"] == \"Ceftamin\",:]\n",
    "\n",
    "#    Groupby by Regimen and Mouse ID to obtain the latest (hightest) timepoint for each mouse\n",
    "capomulin_df_greatest_timepoint_by_mouse = Capomulin_df.groupby(\"Mouse ID\").max()[\"Timepoint\"]\n",
    "ramicane_df_greatest_timepoint_by_mouse = Ramicane_df.groupby(\"Mouse ID\").max()[\"Timepoint\"]\n",
    "infubinol_df_greatest_timepoint_by_mouse = Infubinol_df.groupby(\"Mouse ID\").max()[\"Timepoint\"]\n",
    "ceftamin_df_greatest_timepoint_by_mouse = Ceftamin_df.groupby(\"Mouse ID\").max()[\"Timepoint\"]\n",
    "\n",
    "# Merge this group df with the original dataframe to get the tumor volume at the last timepoint\n",
    "#    Separte merged df's for each regimin by mouse id and last timepoint \n",
    "capomulin_df_tumor_vol_at_max_point = pd.merge(capomulin_df_greatest_timepoint_by_mouse, clean_combined_data_df, on=(\"Mouse ID\",\"Timepoint\"), how=\"left\")\n",
    "ramicane_df_tumor_vol_at_max_point = pd.merge(ramicane_df_greatest_timepoint_by_mouse, clean_combined_data_df, on=(\"Mouse ID\",\"Timepoint\"), how=\"left\")\n",
    "infubinol_tumor_vol_at_max_point = pd.merge(infubinol_df_greatest_timepoint_by_mouse, clean_combined_data_df, on=(\"Mouse ID\",\"Timepoint\"), how=\"left\")\n",
    "ceftamin_tumor_vol_at_max_point = pd.merge(ceftamin_df_greatest_timepoint_by_mouse, clean_combined_data_df, on=(\"Mouse ID\",\"Timepoint\"), how=\"left\")\n"
   ]
  },
  {
   "cell_type": "code",
   "execution_count": 872,
   "metadata": {},
   "outputs": [],
   "source": [
    "# Put treatments into a list for for loop (and later for plot labels)\n",
    "# Create empty list to fill with tumor vol data (for plotting)\n",
    "\n",
    "capomulin_max_tumor_vol_by_mouse = capomulin_df_tumor_vol_at_max_point[\"Tumor Volume (mm3)\"]\n",
    "ramicane_max_tumor_vol_by_mouse = ramicane_df_tumor_vol_at_max_point[\"Tumor Volume (mm3)\"]\n",
    "infubinol_max_tumor_vol_by_mouse = infubinol_tumor_vol_at_max_point[\"Tumor Volume (mm3)\"]\n",
    "ceftamin_max_tumor_vol_by_mouse = ceftamin_tumor_vol_at_max_point[\"Tumor Volume (mm3)\"] \n"
   ]
  },
  {
   "cell_type": "code",
   "execution_count": 873,
   "metadata": {},
   "outputs": [],
   "source": [
    "# Calculate the IQR and quantitatively determine if there are any potential outliers. \n",
    "# Locate the rows which contain mice on each drug and get the tumor volumes\n",
    "    # add subset \n",
    "    # Quartiles by Drug Regimen\n",
    "cap_quartiles = capomulin_max_tumor_vol_by_mouse.quantile([.25,.5,.75])\n",
    "ram_quartiles = ramicane_max_tumor_vol_by_mouse.quantile([.25,.5,.75])\n",
    "inf_quartiles = infubinol_max_tumor_vol_by_mouse.quantile([.25,.5,.75])\n",
    "cef_quartiles = ceftamin_max_tumor_vol_by_mouse.quantile([.25,.5,.75]) "
   ]
  },
  {
   "cell_type": "code",
   "execution_count": 874,
   "metadata": {},
   "outputs": [],
   "source": [
    "# Determine outliers using upper and lower bounds\n",
    "    #Lower Quartiles for each Drug Regimen\n",
    "cap_lowerq = cap_quartiles[.25]\n",
    "ram_lowerq = ram_quartiles[.25]\n",
    "inf_lowerq = inf_quartiles[.25]\n",
    "cef_lowerq = cef_quartiles[.25] \n",
    "    \n",
    "    #Upper Quartiles for each Drug Regimen\n",
    "cap_upperq = cap_quartiles[.75]\n",
    "ram_upperq = ram_quartiles[.75]\n",
    "inf_upperq = inf_quartiles[.75]\n",
    "cef_upperq = cef_quartiles[.75]  \n",
    "\n",
    "# To calculate the IQR for each Drug Regimen  \n",
    "\n",
    "    #IQR for each Drug Regimen\n",
    "cap_iqr = cap_upperq-cap_lowerq\n",
    "ram_iqr = ram_upperq-ram_lowerq\n",
    "inf_iqr = inf_upperq-inf_lowerq\n",
    "cef_iqr = cef_upperq-cef_lowerq\n",
    "    \n",
    "    #Lower Bound for each Drug Regimen\n",
    "cap_lower_bound = cap_lowerq - (1.5*cap_iqr)\n",
    "ram_lower_bound = ram_lowerq - (1.5*ram_iqr)\n",
    "inf_lower_bound = inf_lowerq - (1.5*inf_iqr)\n",
    "cef_lower_bound = cef_lowerq - (1.5*cef_iqr)\n",
    "   \n",
    "    #Upper Bound for each Drug Regimen\n",
    "cap_upper_bound = cap_upperq + (1.5*cap_iqr)\n",
    "ram_upper_bound = ram_upperq + (1.5*ram_iqr)\n",
    "inf_upper_bound = inf_upperq + (1.5*inf_iqr)\n",
    "cef_upper_bound = cef_upperq + (1.5*cef_iqr)\n"
   ]
  },
  {
   "cell_type": "code",
   "execution_count": 875,
   "metadata": {},
   "outputs": [
    {
     "name": "stdout",
     "output_type": "stream",
     "text": [
      "Interquartile Range (IQR) calculations for Capomulin, Ramicane, Infuinol and Ceftamin:\n",
      "\n",
      "The IQR for Capomulin is 7.78.\n",
      "The IQR for Ramicane is 9.1.\n",
      "The IQR for Infubinol is 11.48.\n",
      "  Note: For Infubinol, there is one potential outlier of 36.32 which falls below the lower bound calculation of 36.83.\n",
      "The IQR for Ceftamin is 15.58.\n",
      "\n",
      "The lower and upper quartile calculations for Capomulin, Ramicane, Infuinol and Ceftamin:\n",
      "\n",
      "For Capomulin, the lower quartile is 32.38 and the uppper quartile is 40.16.\n",
      "For Ramicane, the lower quartile is 31.56 and the uppper quartile is 40.66.\n",
      "For Infuinol, the lower quartile is 54.05 and the uppper quartile is 65.53.\n",
      "For Ceftamin, the lower quartile is 48.72 and the uppper quartile is 64.3.\n",
      "\n",
      "The lower and upper bound calculations for Capomulin, Ramicane, Infuinol and Ceftamin:\n",
      "\n",
      "For Capomulin, the lower bound is 20.7 and the uppper bound is 51.83.\n",
      "For Ramicane, the lower bound is 17.91 and the uppper bound is 54.31.\n",
      "For Infuinol, the lower bound is 36.83 and the uppper bound is 82.74.\n",
      "For Ceftamin, the lower bound is 25.36 and the uppper bound is 87.67.\n"
     ]
    }
   ],
   "source": [
    "# Quantitative analysis to assist in identifing any potentional lower or upper outliers for the four Drug Regimens\n",
    "\n",
    "cap_low_outliers=(capomulin_max_tumor_vol_by_mouse[capomulin_max_tumor_vol_by_mouse<cap_lower_bound]).to_list()\n",
    "cap_high_outliers=(capomulin_max_tumor_vol_by_mouse[capomulin_max_tumor_vol_by_mouse>cap_upper_bound]).to_list()\n",
    "\n",
    "ram_low_outliers=(ramicane_max_tumor_vol_by_mouse[ramicane_max_tumor_vol_by_mouse<ram_lower_bound]).to_list()\n",
    "ram_high_outliers=(ramicane_max_tumor_vol_by_mouse[ramicane_max_tumor_vol_by_mouse>ram_upper_bound]).to_list()\n",
    "\n",
    "inf_low_outliers=(infubinol_max_tumor_vol_by_mouse[infubinol_max_tumor_vol_by_mouse<inf_lower_bound]).to_list()\n",
    "inf_high_outliers=(infubinol_max_tumor_vol_by_mouse[infubinol_max_tumor_vol_by_mouse>inf_upper_bound]).to_list()\n",
    "\n",
    "cef_low_outliers=(ceftamin_max_tumor_vol_by_mouse[ceftamin_max_tumor_vol_by_mouse<cef_lower_bound]).to_list()\n",
    "cef_high_outliers=(ceftamin_max_tumor_vol_by_mouse[ceftamin_max_tumor_vol_by_mouse>cef_upper_bound]).to_list()\n",
    "\n",
    "# To print the IQR, Quartiles and upper/lower bounds and any potential outliers for each of the four Drug Regimens\n",
    "\n",
    "print(f\"Interquartile Range (IQR) calculations for Capomulin, Ramicane, Infuinol and Ceftamin:\\n\")\n",
    "print(f\"The IQR for Capomulin is {round(cap_iqr,2)}.\") \n",
    "print(f\"The IQR for Ramicane is {round(ram_iqr,2)}.\") \n",
    "print(f\"The IQR for Infubinol is {round(inf_iqr,2)}.\") \n",
    "print(f\"  Note: For Infubinol, there is one potential outlier of {round((*inf_low_outliers),2)} which falls below the lower bound calculation of {round(inf_lower_bound,2)}.\")\n",
    "print(f\"The IQR for Ceftamin is {round(cef_iqr,2)}.\\n\")\n",
    "print(f\"The lower and upper quartile calculations for Capomulin, Ramicane, Infuinol and Ceftamin:\\n\")\n",
    "print(f\"For Capomulin, the lower quartile is {round(cap_lowerq,2)} and the uppper quartile is {round(cap_upperq,2)}.\")\n",
    "print(f\"For Ramicane, the lower quartile is {round(ram_lowerq,2)} and the uppper quartile is {round(ram_upperq,2)}.\")\n",
    "print(f\"For Infuinol, the lower quartile is {round(inf_lowerq,2)} and the uppper quartile is {round(inf_upperq,2)}.\")\n",
    "print(f\"For Ceftamin, the lower quartile is {round(cef_lowerq,2)} and the uppper quartile is {round(cef_upperq,2)}.\\n\")\n",
    "print(f\"The lower and upper bound calculations for Capomulin, Ramicane, Infuinol and Ceftamin:\\n\")\n",
    "print(f\"For Capomulin, the lower bound is {round(cap_lower_bound,2)} and the uppper bound is {round(cap_upper_bound,2)}.\")\n",
    "print(f\"For Ramicane, the lower bound is {round(ram_lower_bound,2)} and the uppper bound is {round(ram_upper_bound,2)}.\")\n",
    "print(f\"For Infuinol, the lower bound is {round(inf_lower_bound,2)} and the uppper bound is {round(inf_upper_bound,2)}.\")\n",
    "print(f\"For Ceftamin, the lower bound is {round(cef_lower_bound,2)} and the uppper bound is {round(cef_upper_bound,2)}.\")"
   ]
  },
  {
   "cell_type": "code",
   "execution_count": 876,
   "metadata": {},
   "outputs": [
    {
     "data": {
      "image/png": "[encoded data removed]",
      "text/plain": [
       "<Figure size 576x360 with 1 Axes>"
      ]
     },
     "metadata": {
      "needs_background": "light"
     },
     "output_type": "display_data"
    }
   ],
   "source": [
    "# To generate a box plot of the final tumor volume of each mouse across four regimens of interest\n",
    "\n",
    "data_for_box_plot = (capomulin_max_tumor_vol_by_mouse, ramicane_max_tumor_vol_by_mouse, infubinol_max_tumor_vol_by_mouse,ceftamin_max_tumor_vol_by_mouse)\n",
    "treatment_regimens = [\"Capomulin\",\"Ramicane\",\"Infuinol\",\"Ceftamin\"]\n",
    "outlier = dict(marker='o', markerfacecolor='r', markersize=12, linestyle='none', markeredgecolor='k')\n",
    "medianprops = dict(color=\"green\",linewidth=1.5)\n",
    "boxprops = dict(color=\"black\",linewidth=1.5)\n",
    "fig1, ax1 = plt.subplots(figsize=(8,5))\n",
    "ax1.set_ylabel(\"Final Tumor Volumne(mm3)\", fontsize=15)\n",
    "ax1.boxplot(data_for_box_plot, labels=treatment_regimens, flierprops=outlier, medianprops=medianprops, boxprops=boxprops)\n",
    "ax1.xaxis.grid(True)\n",
    "ax1.yaxis.grid(True)\n",
    "plt.show()"
   ]
  },
  {
   "cell_type": "markdown",
   "metadata": {},
   "source": [
    "## Line and Scatter Plots"
   ]
  },
  {
   "cell_type": "code",
   "execution_count": 877,
   "metadata": {},
   "outputs": [
    {
     "data": {
      "image/png": "[encoded data removed]",
      "text/plain": [
       "<Figure size 432x288 with 1 Axes>"
      ]
     },
     "metadata": {
      "needs_background": "light"
     },
     "output_type": "display_data"
    }
   ],
   "source": [
    "# Generate a line plot of tumor volume vs. time point for a mouse treated with Capomulin\n",
    "l509_df = Capomulin_df[\"Mouse ID\"] == \"l509\"\n",
    "l509_df = pd.DataFrame(Capomulin_df[l509_df])\n",
    "l509_df_y_axis = l509_df[\"Timepoint\"].to_list()\n",
    "l509_df_x_axis = l509_df[\"Tumor Volume (mm3)\"].to_list()\n",
    "plt.xlabel(\"Timepoint (days)\",fontsize=13), plt.ylabel(\"Tumor Volumne (mm3)\", fontsize=13), plt.grid(\"True\"), plt.title(\"Capomulin treatment of mouse l509\")\n",
    "plt.plot(l509_df_y_axis, l509_df_x_axis)\n",
    "plt.yticks([40,42,44,46,48])\n",
    "plt.show()"
   ]
  },
  {
   "cell_type": "code",
   "execution_count": 878,
   "metadata": {},
   "outputs": [
    {
     "data": {
      "image/png": "[encoded data removed]",
      "text/plain": [
       "<Figure size 432x288 with 1 Axes>"
      ]
     },
     "metadata": {
      "needs_background": "light"
     },
     "output_type": "display_data"
    }
   ],
   "source": [
    "# Generate a scatter plot of average tumor volume vs. mouse weight for the Capomulin regimen\n",
    "scatter_plot_data_capmulin = Capomulin_df.groupby([\"Mouse ID\",\"Weight (g)\"])[\"Tumor Volume (mm3)\"].mean()\n",
    "scatter_plot_data_capmulin_plot = scatter_plot_data_capmulin.reset_index()\n",
    "scatter_plot_data_capmulin_plot_y_axis = scatter_plot_data_capmulin_plot[\"Tumor Volume (mm3)\"].to_list()\n",
    "scatter_plot_data_capmulin_plot_x_axis = scatter_plot_data_capmulin_plot[\"Weight (g)\"].to_list() \n",
    "plt.scatter(scatter_plot_data_capmulin_plot_x_axis,scatter_plot_data_capmulin_plot_y_axis)\n",
    "plt.xlabel(\"Weight (g)\")\n",
    "plt.ylabel(\"Average Tumor Volume (mm3)\")\n",
    "plt.grid() \n",
    "plt.show()"
   ]
  },
  {
   "cell_type": "markdown",
   "metadata": {},
   "source": [
    "## Correlation and Regression"
   ]
  },
  {
   "cell_type": "code",
   "execution_count": 879,
   "metadata": {},
   "outputs": [
    {
     "name": "stdout",
     "output_type": "stream",
     "text": [
      "The correlation coefficient between Mouse Weight and Average Tumor Volume is 0.84\n"
     ]
    },
    {
     "ename": "TypeError",
     "evalue": "can't multiply sequence by non-int of type 'numpy.float64'",
     "output_type": "error",
     "traceback": [
      "\u001b[1;31m---------------------------------------------------------------------------\u001b[0m",
      "\u001b[1;31mTypeError\u001b[0m                                 Traceback (most recent call last)",
      "\u001b[1;32m<ipython-input-879-f82dc12a49d7>\u001b[0m in \u001b[0;36m<module>\u001b[1;34m\u001b[0m\n\u001b[0;32m     12\u001b[0m \u001b[1;33m(\u001b[0m\u001b[0mslope\u001b[0m\u001b[1;33m,\u001b[0m \u001b[0mintercept\u001b[0m\u001b[1;33m,\u001b[0m \u001b[0mrvalue\u001b[0m\u001b[1;33m,\u001b[0m \u001b[0mpvalue\u001b[0m\u001b[1;33m,\u001b[0m \u001b[0mstderr\u001b[0m\u001b[1;33m)\u001b[0m \u001b[1;33m=\u001b[0m \u001b[0mlinregress\u001b[0m\u001b[1;33m(\u001b[0m\u001b[0mscatter_plot_data_capmulin_plot_x_axis\u001b[0m\u001b[1;33m,\u001b[0m \u001b[0mscatter_plot_data_capmulin_plot_y_axis\u001b[0m\u001b[1;33m)\u001b[0m\u001b[1;33m\u001b[0m\u001b[1;33m\u001b[0m\u001b[0m\n\u001b[0;32m     13\u001b[0m \u001b[1;33m\u001b[0m\u001b[0m\n\u001b[1;32m---> 14\u001b[1;33m \u001b[0mregress_values\u001b[0m \u001b[1;33m=\u001b[0m \u001b[0mscatter_plot_data_capmulin_plot_x_axis\u001b[0m \u001b[1;33m*\u001b[0m \u001b[0mslope\u001b[0m \u001b[1;33m+\u001b[0m \u001b[0mintercept\u001b[0m\u001b[1;33m\u001b[0m\u001b[1;33m\u001b[0m\u001b[0m\n\u001b[0m\u001b[0;32m     15\u001b[0m \u001b[1;33m\u001b[0m\u001b[0m\n\u001b[0;32m     16\u001b[0m \u001b[0mplt\u001b[0m\u001b[1;33m.\u001b[0m\u001b[0mplot\u001b[0m\u001b[1;33m(\u001b[0m\u001b[0mscatter_plot_data_capmulin_plot_x_axis\u001b[0m\u001b[1;33m,\u001b[0m \u001b[0mregress_values\u001b[0m\u001b[1;33m,\u001b[0m\u001b[1;34m\"r-\"\u001b[0m\u001b[1;33m)\u001b[0m\u001b[1;33m\u001b[0m\u001b[1;33m\u001b[0m\u001b[0m\n",
      "\u001b[1;31mTypeError\u001b[0m: can't multiply sequence by non-int of type 'numpy.float64'"
     ]
    },
    {
     "data": {
      "image/png": "[encoded data removed]",
      "text/plain": [
       "<Figure size 432x288 with 1 Axes>"
      ]
     },
     "metadata": {
      "needs_background": "light"
     },
     "output_type": "display_data"
    }
   ],
   "source": [
    "# Calculate the correlation coefficient and linear regression model \n",
    "# for mouse weight and average tumor volume for the Capomulin regimen\n",
    "scatter_plot_data_capmulin = Capomulin_df.groupby([\"Mouse ID\",\"Weight (g)\"])[\"Tumor Volume (mm3)\"].mean()\n",
    "scatter_plot_data_capmulin_plot = scatter_plot_data_capmulin.reset_index()\n",
    "scatter_plot_data_capmulin_plot_y_axis = scatter_plot_data_capmulin_plot[\"Tumor Volume (mm3)\"].to_list()\n",
    "scatter_plot_data_capmulin_plot_x_axis = scatter_plot_data_capmulin_plot[\"Weight (g)\"].to_list() \n",
    "plt.scatter(scatter_plot_data_capmulin_plot_x_axis,scatter_plot_data_capmulin_plot_y_axis)\n",
    "plt.xlabel(\"Weight (g)\")\n",
    "plt.ylabel(\"Average Tumor Volume (mm3)\")\n",
    "plt.grid() \n",
    "plt.title(print(f\"The correlation coefficient between Mouse Weight and Average Tumor Volume is {round(st.pearsonr(scatter_plot_data_capmulin_plot_y_axis,scatter_plot_data_capmulin_plot_x_axis)[0],2)}\"))\n",
    "(slope, intercept, rvalue, pvalue, stderr) = linregress(scatter_plot_data_capmulin_plot_x_axis, scatter_plot_data_capmulin_plot_y_axis)\n",
    "\n",
    "regress_values = scatter_plot_data_capmulin_plot_x_axis * slope + intercept\n",
    "\n",
    "plt.plot(scatter_plot_data_capmulin_plot_x_axis, regress_values,\"r-\")\n",
    "\n",
    "plt.show()\n",
    "\n",
    "\n",
    "\n"
   ]
  },
  {
   "cell_type": "code",
   "execution_count": null,
   "metadata": {},
   "outputs": [],
   "source": []
  }
 ],
 "metadata": {
  "anaconda-cloud": {},
  "kernelspec": {
   "display_name": "Python [conda env:root] *",
   "language": "python",
   "name": "conda-root-py"
  },
  "language_info": {
   "codemirror_mode": {
    "name": "ipython",
    "version": 3
   },
   "file_extension": ".py",
   "mimetype": "text/x-python",
   "name": "python",
   "nbconvert_exporter": "python",
   "pygments_lexer": "ipython3",
   "version": "3.8.5"
  }
 },
 "nbformat": 4,
 "nbformat_minor": 4
}
